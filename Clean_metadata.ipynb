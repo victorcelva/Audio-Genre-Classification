{
 "cells": [
  {
   "cell_type": "code",
   "execution_count": 1,
   "metadata": {},
   "outputs": [],
   "source": [
    "import os\n",
    "from tqdm import tqdm\n",
    "import numpy as np\n",
    "from sklearn.model_selection import train_test_split\n",
    "from sklearn import preprocessing\n",
    "import tensorflow.keras as keras\n",
    "import matplotlib.pyplot as plt\n",
    "import pandas as pd\n",
    "%matplotlib inline\n",
    "import librosa\n",
    "from matplotlib import cm\n",
    "from librosa import display\n",
    "import pylab\n",
    "from scipy.io import wavfile"
   ]
  },
  {
   "cell_type": "code",
   "execution_count": 2,
   "metadata": {},
   "outputs": [
    {
     "data": {
      "text/html": [
       "<div>\n",
       "<style scoped>\n",
       "    .dataframe tbody tr th:only-of-type {\n",
       "        vertical-align: middle;\n",
       "    }\n",
       "\n",
       "    .dataframe tbody tr th {\n",
       "        vertical-align: top;\n",
       "    }\n",
       "\n",
       "    .dataframe thead th {\n",
       "        text-align: right;\n",
       "    }\n",
       "</style>\n",
       "<table border=\"1\" class=\"dataframe\">\n",
       "  <thead>\n",
       "    <tr style=\"text-align: right;\">\n",
       "      <th></th>\n",
       "      <th>Audio_Filenames</th>\n",
       "      <th>track_genre_1</th>\n",
       "      <th>track_genre_2</th>\n",
       "    </tr>\n",
       "  </thead>\n",
       "  <tbody>\n",
       "    <tr>\n",
       "      <th>0</th>\n",
       "      <td>4em001_01_Mideast-Darkness_703611.wav</td>\n",
       "      <td>Atmosphere</td>\n",
       "      <td>World Music</td>\n",
       "    </tr>\n",
       "    <tr>\n",
       "      <th>1</th>\n",
       "      <td>4em001_02_Desert-Search_703612.wav</td>\n",
       "      <td>Atmosphere</td>\n",
       "      <td>World Music</td>\n",
       "    </tr>\n",
       "    <tr>\n",
       "      <th>2</th>\n",
       "      <td>4em001_03_Qasidah_703613.wav</td>\n",
       "      <td>Atmosphere</td>\n",
       "      <td>World Music</td>\n",
       "    </tr>\n",
       "    <tr>\n",
       "      <th>3</th>\n",
       "      <td>4em001_04_Desert-War_703614.wav</td>\n",
       "      <td>Atmosphere</td>\n",
       "      <td>World Music</td>\n",
       "    </tr>\n",
       "    <tr>\n",
       "      <th>4</th>\n",
       "      <td>4em001_05_Desert-War---Lite_703615.wav</td>\n",
       "      <td>Atmosphere</td>\n",
       "      <td>World Music</td>\n",
       "    </tr>\n",
       "  </tbody>\n",
       "</table>\n",
       "</div>"
      ],
      "text/plain": [
       "                          Audio_Filenames track_genre_1 track_genre_2\n",
       "0   4em001_01_Mideast-Darkness_703611.wav    Atmosphere   World Music\n",
       "1      4em001_02_Desert-Search_703612.wav    Atmosphere   World Music\n",
       "2            4em001_03_Qasidah_703613.wav    Atmosphere   World Music\n",
       "3         4em001_04_Desert-War_703614.wav    Atmosphere   World Music\n",
       "4  4em001_05_Desert-War---Lite_703615.wav    Atmosphere   World Music"
      ]
     },
     "execution_count": 2,
     "metadata": {},
     "output_type": "execute_result"
    }
   ],
   "source": [
    "audio_genres = pd.read_csv(\"audiofile_genres.csv\", sep=\";\")\n",
    "audio_genres.head()"
   ]
  },
  {
   "cell_type": "code",
   "execution_count": 3,
   "metadata": {},
   "outputs": [
    {
     "data": {
      "text/plain": [
       "Atmosphere            8992\n",
       "Filmscore             8305\n",
       "Rock                  4405\n",
       "Electronica           3356\n",
       "Hip Hop, Rap          2364\n",
       "Country, Folk         2305\n",
       "Pop                   2042\n",
       "Classical Music       1724\n",
       "Easy Listening        1620\n",
       "World Music           1573\n",
       "Ambient, Chill        1503\n",
       "Dance                 1394\n",
       "Indie, Alternative    1153\n",
       "Funk, Soul            1069\n",
       "Jazz                  1005\n",
       "House                  761\n",
       "Latin                  524\n",
       "Techno                 375\n",
       "Big Band               371\n",
       "Blues                  336\n",
       "60ies                  333\n",
       "Drum'n'Bass            327\n",
       "Military               261\n",
       "R'n'B                  200\n",
       "German Folk            189\n",
       "80ies                  181\n",
       "Historical Music       169\n",
       "Swing                  127\n",
       "Sound Design           126\n",
       "Christmas              104\n",
       "Acoustic               100\n",
       "Orchestral              95\n",
       "Hard, Heavy             81\n",
       "Kids                    78\n",
       "70ies                   75\n",
       "Religious Music         73\n",
       "Reggae, Ska             63\n",
       "Trailer                 45\n",
       "20ies                   45\n",
       "Percussion              45\n",
       "Drone                   43\n",
       "Rock'n'Roll             40\n",
       "Dubstep                 38\n",
       "50ies                   36\n",
       "90ies                   30\n",
       "Piano                   30\n",
       "Punk                    26\n",
       "40ies                   24\n",
       "Pizzicato               21\n",
       "Industrial              16\n",
       "Song                    12\n",
       "A Cappella               5\n",
       "Breakbeat                3\n",
       "Disco                    1\n",
       "Name: track_genre_1, dtype: int64"
      ]
     },
     "execution_count": 3,
     "metadata": {},
     "output_type": "execute_result"
    }
   ],
   "source": [
    "occur_col1 = audio_genres[\"track_genre_1\"].value_counts()\n",
    "occur_col1"
   ]
  },
  {
   "cell_type": "code",
   "execution_count": 4,
   "metadata": {},
   "outputs": [
    {
     "data": {
      "text/plain": [
       "Pop                   4437\n",
       "Filmscore             4424\n",
       "Electronica           3624\n",
       "Ambient, Chill        3100\n",
       "Classical Music       1381\n",
       "World Music           1341\n",
       "Indie, Alternative     688\n",
       "Orchestral             655\n",
       "Kids                   628\n",
       "Trailer                612\n",
       "Acoustic               600\n",
       "Hard, Heavy            555\n",
       "Sound Design           520\n",
       "Jazz                   503\n",
       "Christmas              409\n",
       "Dance                  386\n",
       "Drone                  369\n",
       "Blues                  352\n",
       "Swing                  331\n",
       "Easy Listening         311\n",
       "Piano                  296\n",
       "Atmosphere             293\n",
       "R'n'B                  292\n",
       "70ies                  272\n",
       "Funk, Soul             228\n",
       "Song                   223\n",
       "Dubstep                221\n",
       "Rock'n'Roll            206\n",
       "80ies                  189\n",
       "Religious Music        182\n",
       "Pizzicato              180\n",
       "Percussion             155\n",
       "Punk                   147\n",
       "60ies                  144\n",
       "Reggae, Ska            134\n",
       "House                  128\n",
       "90ies                  122\n",
       "Historical Music       121\n",
       "Country, Folk          108\n",
       "Disco                   98\n",
       "Industrial              80\n",
       "Hip Hop, Rap            69\n",
       "Breakbeat               66\n",
       "Rock                    64\n",
       "A Cappella              63\n",
       "Latin                   48\n",
       "30ies                   46\n",
       "20ies                   32\n",
       "Big Band                32\n",
       "Drum'n'Bass             25\n",
       "40ies                   14\n",
       "Techno                  13\n",
       "Military                12\n",
       "50ies                   12\n",
       "German Folk             10\n",
       "Name: track_genre_2, dtype: int64"
      ]
     },
     "execution_count": 4,
     "metadata": {},
     "output_type": "execute_result"
    }
   ],
   "source": [
    "occur_col2 = audio_genres[\"track_genre_2\"].value_counts()\n",
    "occur_col2"
   ]
  },
  {
   "cell_type": "code",
   "execution_count": 5,
   "metadata": {},
   "outputs": [
    {
     "data": {
      "text/plain": [
       "Filmscore             12729.0\n",
       "Atmosphere             9285.0\n",
       "Electronica            6980.0\n",
       "Pop                    6479.0\n",
       "Ambient, Chill         4603.0\n",
       "Rock                   4469.0\n",
       "Classical Music        3105.0\n",
       "World Music            2914.0\n",
       "Hip Hop, Rap           2433.0\n",
       "Country, Folk          2413.0\n",
       "Easy Listening         1931.0\n",
       "Indie, Alternative     1841.0\n",
       "Dance                  1780.0\n",
       "Jazz                   1508.0\n",
       "Funk, Soul             1297.0\n",
       "House                   889.0\n",
       "Orchestral              750.0\n",
       "Kids                    706.0\n",
       "Acoustic                700.0\n",
       "Blues                   688.0\n",
       "Trailer                 657.0\n",
       "Sound Design            646.0\n",
       "Hard, Heavy             636.0\n",
       "Latin                   572.0\n",
       "Christmas               513.0\n",
       "R'n'B                   492.0\n",
       "60ies                   477.0\n",
       "Swing                   458.0\n",
       "Drone                   412.0\n",
       "Big Band                403.0\n",
       "Techno                  388.0\n",
       "80ies                   370.0\n",
       "Drum'n'Bass             352.0\n",
       "70ies                   347.0\n",
       "Piano                   326.0\n",
       "Historical Music        290.0\n",
       "Military                273.0\n",
       "Dubstep                 259.0\n",
       "Religious Music         255.0\n",
       "Rock'n'Roll             246.0\n",
       "Song                    235.0\n",
       "Pizzicato               201.0\n",
       "Percussion              200.0\n",
       "German Folk             199.0\n",
       "Reggae, Ska             197.0\n",
       "Punk                    173.0\n",
       "90ies                   152.0\n",
       "Disco                    99.0\n",
       "Industrial               96.0\n",
       "20ies                    77.0\n",
       "Breakbeat                69.0\n",
       "A Cappella               68.0\n",
       "50ies                    48.0\n",
       "40ies                    38.0\n",
       "30ies                     NaN\n",
       "dtype: float64"
      ]
     },
     "execution_count": 5,
     "metadata": {},
     "output_type": "execute_result"
    }
   ],
   "source": [
    "occur_tot = occur_col1 + occur_col2\n",
    "occur_tot.sort_values(ascending=False)"
   ]
  },
  {
   "cell_type": "code",
   "execution_count": 6,
   "metadata": {},
   "outputs": [
    {
     "data": {
      "text/plain": [
       "Atmosphere            8992\n",
       "Filmscore             8305\n",
       "Rock                  4405\n",
       "Electronica           3356\n",
       "Others                2456\n",
       "Hip Hop, Rap          2364\n",
       "Country, Folk         2305\n",
       "Pop                   2042\n",
       "Classical Music       1724\n",
       "Easy Listening        1620\n",
       "World Music           1573\n",
       "Ambient, Chill        1503\n",
       "Dance                 1394\n",
       "Indie, Alternative    1153\n",
       "Funk, Soul            1069\n",
       "Jazz                  1005\n",
       "House                  761\n",
       "Latin                  524\n",
       "Blues                  336\n",
       "60ies                  333\n",
       "R'n'B                  200\n",
       "Swing                  127\n",
       "Sound Design           126\n",
       "Christmas              104\n",
       "Acoustic               100\n",
       "Orchestral              95\n",
       "Hard, Heavy             81\n",
       "Kids                    78\n",
       "Trailer                 45\n",
       "Drone                   43\n",
       "Name: track_genre_1, dtype: int64"
      ]
     },
     "execution_count": 6,
     "metadata": {},
     "output_type": "execute_result"
    }
   ],
   "source": [
    "audio_genres[\"track_genre_1\"].replace({\"Big Band\": \"Others\", \"German Folk\": \"Others\", \"Techno\": \"Others\", \"80ies\": \"Others\", \"Drum'n'Bass\": \"Others\", \"70ies\": \"Others\", \"Piano\": \"Others\", \"Historical Music\": \"Others\", \"Military\": \"Others\", \"Dubstep\": \"Others\", \"Religious Music\": \"Others\", \"Rock'n'Roll\": \"Others\", \"Song\": \"Others\", \"Pizzicato\": \"Others\", \"Percussion\": \"Others\", \"German, Folk\": \"Others\", \"Reggae, Ska\": \"Others\", \"Punk\": \"Others\", \"90ies\": \"Others\", \"Disco\": \"Others\", \"Industrial\": \"Others\", \"20ies\": \"Others\", \"Breakbeat\": \"Others\", \"A Cappella\": \"Others\", \"50ies\": \"Others\", \"40ies\": \"Others\", \"30ies\": \"Others\"}, inplace=True)\n",
    "newoccur_col1 = audio_genres[\"track_genre_1\"].value_counts()\n",
    "newoccur_col1"
   ]
  },
  {
   "cell_type": "code",
   "execution_count": 7,
   "metadata": {},
   "outputs": [
    {
     "data": {
      "text/plain": [
       "Pop                   4437\n",
       "Filmscore             4424\n",
       "Electronica           3624\n",
       "Ambient, Chill        3100\n",
       "Others                2951\n",
       "Classical Music       1381\n",
       "World Music           1341\n",
       "Indie, Alternative     688\n",
       "Orchestral             655\n",
       "Kids                   628\n",
       "Trailer                612\n",
       "Acoustic               600\n",
       "Hard, Heavy            555\n",
       "Sound Design           520\n",
       "Jazz                   503\n",
       "Christmas              409\n",
       "Dance                  386\n",
       "Drone                  369\n",
       "Blues                  352\n",
       "Swing                  331\n",
       "Easy Listening         311\n",
       "Atmosphere             293\n",
       "R'n'B                  292\n",
       "Funk, Soul             228\n",
       "60ies                  144\n",
       "House                  128\n",
       "Country, Folk          108\n",
       "Hip Hop, Rap            69\n",
       "Rock                    64\n",
       "Latin                   48\n",
       "Name: track_genre_2, dtype: int64"
      ]
     },
     "execution_count": 7,
     "metadata": {},
     "output_type": "execute_result"
    }
   ],
   "source": [
    "audio_genres[\"track_genre_2\"].replace({\"Big Band\": \"Others\", \"German Folk\": \"Others\", \"Techno\": \"Others\", \"80ies\": \"Others\", \"Drum'n'Bass\": \"Others\", \"70ies\": \"Others\", \"Piano\": \"Others\", \"Historical Music\": \"Others\", \"Military\": \"Others\", \"Dubstep\": \"Others\", \"Religious Music\": \"Others\", \"Rock'n'Roll\": \"Others\", \"Song\": \"Others\", \"Pizzicato\": \"Others\", \"Percussion\": \"Others\", \"German, Folk\": \"Others\", \"Reggae, Ska\": \"Others\", \"Punk\": \"Others\", \"90ies\": \"Others\", \"Disco\": \"Others\", \"Industrial\": \"Others\", \"20ies\": \"Others\", \"Breakbeat\": \"Others\", \"A Cappella\": \"Others\", \"50ies\": \"Others\", \"40ies\": \"Others\", \"30ies\": \"Others\"}, inplace=True)\n",
    "newoccur_col2 = audio_genres[\"track_genre_2\"].value_counts()\n",
    "newoccur_col2"
   ]
  },
  {
   "cell_type": "code",
   "execution_count": 8,
   "metadata": {},
   "outputs": [
    {
     "data": {
      "text/plain": [
       "Filmscore             12729\n",
       "Atmosphere             9285\n",
       "Electronica            6980\n",
       "Pop                    6479\n",
       "Others                 5407\n",
       "Ambient, Chill         4603\n",
       "Rock                   4469\n",
       "Classical Music        3105\n",
       "World Music            2914\n",
       "Hip Hop, Rap           2433\n",
       "Country, Folk          2413\n",
       "Easy Listening         1931\n",
       "Indie, Alternative     1841\n",
       "Dance                  1780\n",
       "Jazz                   1508\n",
       "Funk, Soul             1297\n",
       "House                   889\n",
       "Orchestral              750\n",
       "Kids                    706\n",
       "Acoustic                700\n",
       "Blues                   688\n",
       "Trailer                 657\n",
       "Sound Design            646\n",
       "Hard, Heavy             636\n",
       "Latin                   572\n",
       "Christmas               513\n",
       "R'n'B                   492\n",
       "60ies                   477\n",
       "Swing                   458\n",
       "Drone                   412\n",
       "dtype: int64"
      ]
     },
     "execution_count": 8,
     "metadata": {},
     "output_type": "execute_result"
    }
   ],
   "source": [
    "newoccur_tot = newoccur_col1 + newoccur_col2\n",
    "newoccur_tot.sort_values(ascending=False)"
   ]
  },
  {
   "cell_type": "code",
   "execution_count": 9,
   "metadata": {},
   "outputs": [],
   "source": [
    "audio_genres.set_index('Audio_Filenames', inplace=True)"
   ]
  },
  {
   "cell_type": "code",
   "execution_count": null,
   "metadata": {},
   "outputs": [],
   "source": [
    "for f in audio_genres.index:\n",
    "    rate, signal = wavfile.read('wav/'+f)\n",
    "    audio_genres.at[f, 'length'] = signal.shape[0]/rate"
   ]
  },
  {
   "cell_type": "code",
   "execution_count": null,
   "metadata": {},
   "outputs": [],
   "source": [
    "audio_genres.sort_values('length',ascending=True)"
   ]
  },
  {
   "cell_type": "code",
   "execution_count": null,
   "metadata": {},
   "outputs": [],
   "source": [
    "audio_genres = audio_genres.drop(audio_genres[audio_genres.length < 40].index)"
   ]
  },
  {
   "cell_type": "code",
   "execution_count": null,
   "metadata": {},
   "outputs": [],
   "source": [
    "audio_genres = audio_genres.reset_index('Audio_Filenames')"
   ]
  },
  {
   "cell_type": "code",
   "execution_count": null,
   "metadata": {},
   "outputs": [],
   "source": [
    "audio_genres.sort_values('length',ascending=True)"
   ]
  },
  {
   "cell_type": "code",
   "execution_count": null,
   "metadata": {},
   "outputs": [],
   "source": [
    "two_columns = [audio_genres[\"track_genre_1\"], audio_genres[\"track_genre_2\"]]\n",
    "headers = [\"genre_1\", \"genre_2\"]\n",
    "two_columns = pd.concat(two_columns, axis=1, keys=headers)\n",
    "two_columns"
   ]
  },
  {
   "cell_type": "code",
   "execution_count": null,
   "metadata": {},
   "outputs": [],
   "source": [
    "two_columns['genre_2'].fillna('', inplace=True)\n",
    "two_columns"
   ]
  },
  {
   "cell_type": "code",
   "execution_count": null,
   "metadata": {},
   "outputs": [],
   "source": [
    "two_columns.values.sort()\n",
    "two_columns"
   ]
  },
  {
   "cell_type": "code",
   "execution_count": null,
   "metadata": {},
   "outputs": [],
   "source": [
    "trackgenre1 = two_columns[\"genre_1\"]\n",
    "trackgenre2 = two_columns[\"genre_2\"]\n",
    "audio_genres['multi_genres'] = trackgenre1 + ' ' + trackgenre2"
   ]
  },
  {
   "cell_type": "code",
   "execution_count": null,
   "metadata": {},
   "outputs": [],
   "source": [
    "pd.set_option('display.max_rows', 450)\n",
    "audio_genres['multi_genres'].value_counts()"
   ]
  },
  {
   "cell_type": "code",
   "execution_count": null,
   "metadata": {},
   "outputs": [],
   "source": [
    "np.random.seed(10)\n",
    "drop_indices = np.random.choice(audio_genres[audio_genres['multi_genres'] == ' Filmscore'].index, size=2750, replace=False)\n",
    "audio_genres.drop(labels=drop_indices, axis=0, inplace=True)\n",
    "audio_genres.reset_index(drop=True, inplace=False)"
   ]
  },
  {
   "cell_type": "code",
   "execution_count": null,
   "metadata": {},
   "outputs": [],
   "source": [
    "np.random.seed(10)\n",
    "drop_indices = np.random.choice(audio_genres[audio_genres['multi_genres'] == 'Atmosphere Filmscore'].index, size=2050, replace=False)\n",
    "audio_genres.drop(labels=drop_indices, axis=0, inplace=True)\n",
    "audio_genres.reset_index(drop=True, inplace=False)"
   ]
  },
  {
   "cell_type": "code",
   "execution_count": null,
   "metadata": {},
   "outputs": [],
   "source": [
    "np.random.seed(10)\n",
    "drop_indices = np.random.choice(audio_genres[audio_genres['multi_genres'] == ' Atmosphere'].index, size=1600, replace=False)\n",
    "audio_genres.drop(labels=drop_indices, axis=0, inplace=True)\n",
    "audio_genres.reset_index(drop=True, inplace=False)"
   ]
  },
  {
   "cell_type": "code",
   "execution_count": null,
   "metadata": {},
   "outputs": [],
   "source": [
    "np.random.seed(10)\n",
    "drop_indices = np.random.choice(audio_genres[audio_genres['multi_genres'] == ' Electronica'].index, size=1000, replace=False)\n",
    "audio_genres.drop(labels=drop_indices, axis=0, inplace=True)\n",
    "audio_genres.reset_index(drop=True, inplace=False)"
   ]
  },
  {
   "cell_type": "code",
   "execution_count": null,
   "metadata": {},
   "outputs": [],
   "source": [
    "np.random.seed(10)\n",
    "drop_indices = np.random.choice(audio_genres[audio_genres['multi_genres'] == ' Rock'].index, size=500, replace=False)\n",
    "audio_genres.drop(labels=drop_indices, axis=0, inplace=True)\n",
    "audio_genres.reset_index(drop=True, inplace=False)"
   ]
  },
  {
   "cell_type": "code",
   "execution_count": null,
   "metadata": {},
   "outputs": [],
   "source": [
    "np.random.seed(10)\n",
    "drop_indices = np.random.choice(audio_genres[audio_genres['multi_genres'] == 'Atmosphere Electronica'].index, size=460, replace=False)\n",
    "audio_genres.drop(labels=drop_indices, axis=0, inplace=True)\n",
    "audio_genres.reset_index(drop=True, inplace=False)"
   ]
  },
  {
   "cell_type": "code",
   "execution_count": null,
   "metadata": {},
   "outputs": [],
   "source": [
    "np.random.seed(10)\n",
    "drop_indices = np.random.choice(audio_genres[audio_genres['multi_genres'] == ' Pop'].index, size=440, replace=False)\n",
    "audio_genres.drop(labels=drop_indices, axis=0, inplace=True)\n",
    "audio_genres.reset_index(drop=True, inplace=False)"
   ]
  },
  {
   "cell_type": "code",
   "execution_count": null,
   "metadata": {},
   "outputs": [],
   "source": [
    "np.random.seed(10)\n",
    "drop_indices = np.random.choice(audio_genres[audio_genres['multi_genres'] == ' Classical Music'].index, size=20, replace=False)\n",
    "audio_genres.drop(labels=drop_indices, axis=0, inplace=True)\n",
    "audio_genres.reset_index(drop=True, inplace=False)"
   ]
  },
  {
   "cell_type": "code",
   "execution_count": null,
   "metadata": {},
   "outputs": [],
   "source": [
    "np.random.seed(10)\n",
    "drop_indices = np.random.choice(audio_genres[audio_genres['multi_genres'] == 'Ambient, Chill Filmscore'].index, size=420, replace=False)\n",
    "audio_genres.drop(labels=drop_indices, axis=0, inplace=True)\n",
    "audio_genres.reset_index(drop=True, inplace=False)"
   ]
  },
  {
   "cell_type": "code",
   "execution_count": null,
   "metadata": {},
   "outputs": [],
   "source": [
    "np.random.seed(10)\n",
    "drop_indices = np.random.choice(audio_genres[audio_genres['multi_genres'] == ' Others'].index, size=380, replace=False)\n",
    "audio_genres.drop(labels=drop_indices, axis=0, inplace=True)\n",
    "audio_genres.reset_index(drop=True, inplace=False)"
   ]
  },
  {
   "cell_type": "code",
   "execution_count": null,
   "metadata": {},
   "outputs": [],
   "source": [
    "np.random.seed(10)\n",
    "drop_indices = np.random.choice(audio_genres[audio_genres['multi_genres'] == ' World Music'].index, size=380, replace=False)\n",
    "audio_genres.drop(labels=drop_indices, axis=0, inplace=True)\n",
    "audio_genres.reset_index(drop=True, inplace=False)"
   ]
  },
  {
   "cell_type": "code",
   "execution_count": null,
   "metadata": {},
   "outputs": [],
   "source": [
    "np.random.seed(10)\n",
    "drop_indices = np.random.choice(audio_genres[audio_genres['multi_genres'] == ' Hip Hop, Rap'].index, size=380, replace=False)\n",
    "audio_genres.drop(labels=drop_indices, axis=0, inplace=True)\n",
    "audio_genres.reset_index(drop=True, inplace=False)"
   ]
  },
  {
   "cell_type": "code",
   "execution_count": null,
   "metadata": {},
   "outputs": [],
   "source": [
    "np.random.seed(10)\n",
    "drop_indices = np.random.choice(audio_genres[audio_genres['multi_genres'] == 'Electronica Filmscore'].index, size=360, replace=False)\n",
    "audio_genres.drop(labels=drop_indices, axis=0, inplace=True)\n",
    "audio_genres.reset_index(drop=True, inplace=False)"
   ]
  },
  {
   "cell_type": "code",
   "execution_count": null,
   "metadata": {},
   "outputs": [],
   "source": [
    "np.random.seed(10)\n",
    "drop_indices = np.random.choice(audio_genres[audio_genres['multi_genres'] == 'Filmscore Others'].index, size=380, replace=False)\n",
    "audio_genres.drop(labels=drop_indices, axis=0, inplace=True)\n",
    "audio_genres.reset_index(drop=True, inplace=False)"
   ]
  },
  {
   "cell_type": "code",
   "execution_count": null,
   "metadata": {},
   "outputs": [],
   "source": [
    "np.random.seed(10)\n",
    "drop_indices = np.random.choice(audio_genres[audio_genres['multi_genres'] == 'Ambient, Chill Atmosphere'].index, size=250, replace=False)\n",
    "audio_genres.drop(labels=drop_indices, axis=0, inplace=True)\n",
    "audio_genres.reset_index(drop=True, inplace=False)"
   ]
  },
  {
   "cell_type": "code",
   "execution_count": null,
   "metadata": {},
   "outputs": [],
   "source": [
    "np.random.seed(10)\n",
    "drop_indices = np.random.choice(audio_genres[audio_genres['multi_genres'] == 'Pop Rock'].index, size=240, replace=False)\n",
    "audio_genres.drop(labels=drop_indices, axis=0, inplace=True)\n",
    "audio_genres.reset_index(drop=True, inplace=False)"
   ]
  },
  {
   "cell_type": "code",
   "execution_count": null,
   "metadata": {},
   "outputs": [],
   "source": [
    "np.random.seed(10)\n",
    "drop_indices = np.random.choice(audio_genres[audio_genres['multi_genres'] == ' Ambient, Chill'].index, size=220, replace=False)\n",
    "audio_genres.drop(labels=drop_indices, axis=0, inplace=True)\n",
    "audio_genres.reset_index(drop=True, inplace=False)"
   ]
  },
  {
   "cell_type": "code",
   "execution_count": null,
   "metadata": {},
   "outputs": [],
   "source": [
    "np.random.seed(10)\n",
    "drop_indices = np.random.choice(audio_genres[audio_genres['multi_genres'] == ' Country, Folk'].index, size=150, replace=False)\n",
    "audio_genres.drop(labels=drop_indices, axis=0, inplace=True)\n",
    "audio_genres.reset_index(drop=True, inplace=False)"
   ]
  },
  {
   "cell_type": "code",
   "execution_count": null,
   "metadata": {},
   "outputs": [],
   "source": [
    "np.random.seed(10)\n",
    "drop_indices = np.random.choice(audio_genres[audio_genres['multi_genres'] == 'Filmscore Pop'].index, size=250, replace=False)\n",
    "audio_genres.drop(labels=drop_indices, axis=0, inplace=True)\n",
    "audio_genres.reset_index(drop=True, inplace=False)"
   ]
  },
  {
   "cell_type": "code",
   "execution_count": null,
   "metadata": {},
   "outputs": [],
   "source": [
    "audio_genres.to_csv('clean_audio_genres.csv', sep=';')"
   ]
  }
 ],
 "metadata": {
  "kernelspec": {
   "display_name": "Python 3",
   "language": "python",
   "name": "python3"
  },
  "language_info": {
   "codemirror_mode": {
    "name": "ipython",
    "version": 3
   },
   "file_extension": ".py",
   "mimetype": "text/x-python",
   "name": "python",
   "nbconvert_exporter": "python",
   "pygments_lexer": "ipython3",
   "version": "3.7.7"
  }
 },
 "nbformat": 4,
 "nbformat_minor": 4
}
