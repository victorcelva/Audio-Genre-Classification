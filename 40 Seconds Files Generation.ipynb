{
 "cells": [
  {
   "cell_type": "code",
   "execution_count": 2,
   "metadata": {},
   "outputs": [],
   "source": [
    "import os\n",
    "from tqdm import tqdm\n",
    "import numpy as np\n",
    "from sklearn.model_selection import train_test_split\n",
    "from sklearn import preprocessing\n",
    "import tensorflow.keras as keras\n",
    "import matplotlib.pyplot as plt\n",
    "import pandas as pd\n",
    "%matplotlib inline\n",
    "import librosa\n",
    "from matplotlib import cm\n",
    "from librosa import display\n",
    "import pylab\n",
    "from scipy.io import wavfile\n",
    "from python_speech_features import mfcc, logfbank"
   ]
  },
  {
   "cell_type": "code",
   "execution_count": 3,
   "metadata": {},
   "outputs": [
    {
     "data": {
      "text/html": [
       "<div>\n",
       "<style scoped>\n",
       "    .dataframe tbody tr th:only-of-type {\n",
       "        vertical-align: middle;\n",
       "    }\n",
       "\n",
       "    .dataframe tbody tr th {\n",
       "        vertical-align: top;\n",
       "    }\n",
       "\n",
       "    .dataframe thead th {\n",
       "        text-align: right;\n",
       "    }\n",
       "</style>\n",
       "<table border=\"1\" class=\"dataframe\">\n",
       "  <thead>\n",
       "    <tr style=\"text-align: right;\">\n",
       "      <th></th>\n",
       "      <th>Audio_Filenames</th>\n",
       "      <th>track_genre_1</th>\n",
       "      <th>track_genre_2</th>\n",
       "    </tr>\n",
       "  </thead>\n",
       "  <tbody>\n",
       "    <tr>\n",
       "      <th>0</th>\n",
       "      <td>4em001_01_Mideast-Darkness_703611.wav</td>\n",
       "      <td>Atmosphere</td>\n",
       "      <td>World Music</td>\n",
       "    </tr>\n",
       "    <tr>\n",
       "      <th>1</th>\n",
       "      <td>4em001_02_Desert-Search_703612.wav</td>\n",
       "      <td>Atmosphere</td>\n",
       "      <td>World Music</td>\n",
       "    </tr>\n",
       "    <tr>\n",
       "      <th>2</th>\n",
       "      <td>4em001_03_Qasidah_703613.wav</td>\n",
       "      <td>Atmosphere</td>\n",
       "      <td>World Music</td>\n",
       "    </tr>\n",
       "    <tr>\n",
       "      <th>3</th>\n",
       "      <td>4em001_04_Desert-War_703614.wav</td>\n",
       "      <td>Atmosphere</td>\n",
       "      <td>World Music</td>\n",
       "    </tr>\n",
       "    <tr>\n",
       "      <th>4</th>\n",
       "      <td>4em001_05_Desert-War---Lite_703615.wav</td>\n",
       "      <td>Atmosphere</td>\n",
       "      <td>World Music</td>\n",
       "    </tr>\n",
       "  </tbody>\n",
       "</table>\n",
       "</div>"
      ],
      "text/plain": [
       "                          Audio_Filenames track_genre_1 track_genre_2\n",
       "0   4em001_01_Mideast-Darkness_703611.wav    Atmosphere   World Music\n",
       "1      4em001_02_Desert-Search_703612.wav    Atmosphere   World Music\n",
       "2            4em001_03_Qasidah_703613.wav    Atmosphere   World Music\n",
       "3         4em001_04_Desert-War_703614.wav    Atmosphere   World Music\n",
       "4  4em001_05_Desert-War---Lite_703615.wav    Atmosphere   World Music"
      ]
     },
     "execution_count": 3,
     "metadata": {},
     "output_type": "execute_result"
    }
   ],
   "source": [
    "from scipy.io import wavfile\n",
    "audio_genres = pd.read_csv(\"audiofile_genres.csv\", sep=\";\")\n",
    "audio_genres.head()"
   ]
  },
  {
   "cell_type": "code",
   "execution_count": null,
   "metadata": {},
   "outputs": [],
   "source": [
    "audio_genres.set_index('Audio_Filenames', inplace=True)"
   ]
  },
  {
   "cell_type": "code",
   "execution_count": null,
   "metadata": {},
   "outputs": [],
   "source": [
    "for f in audio_genres.index:\n",
    "    rate, signal = wavfile.read('wav/'+f)\n",
    "    audio_genres.at[f, 'length'] = signal.shape[0]/rate"
   ]
  },
  {
   "cell_type": "code",
   "execution_count": null,
   "metadata": {},
   "outputs": [],
   "source": [
    "audio_genres = audio_genres.drop(audio_genres[audio_genres.length < 40].index)"
   ]
  },
  {
   "cell_type": "code",
   "execution_count": null,
   "metadata": {},
   "outputs": [],
   "source": [
    "for f in audio_genres.index:\n",
    "    fs, data = wavfile.read('wav/'+f)\n",
    "\n",
    "    N = data.shape[0]\n",
    "\n",
    "    # Convert seconds to samples\n",
    "    forty_secs_in_samples = float(fs)*40 # time = number_of_samples / fs\n",
    "\n",
    "    midpoint_sample = N//2 # Midpoint of sample\n",
    "\n",
    "    # substract 4 seconds from midpoint\n",
    "    left_side = midpoint_sample-(forty_secs_in_samples//2) \n",
    "\n",
    "    # Add 4 seconds from midpoint up\n",
    "    right_side = midpoint_sample + (forty_secs_in_samples//2)\n",
    "\n",
    "    # The midpoint of samples is therefore:\n",
    "    mid40secs = data[int(left_side):int(right_side)] # this range contains the required samples\n",
    "    # Save the file\n",
    "    wavfile.write('40secwav/'+f,fs,mid40secs)"
   ]
  }
 ],
 "metadata": {
  "kernelspec": {
   "display_name": "Python 3",
   "language": "python",
   "name": "python3"
  },
  "language_info": {
   "codemirror_mode": {
    "name": "ipython",
    "version": 3
   },
   "file_extension": ".py",
   "mimetype": "text/x-python",
   "name": "python",
   "nbconvert_exporter": "python",
   "pygments_lexer": "ipython3",
   "version": "3.7.7"
  }
 },
 "nbformat": 4,
 "nbformat_minor": 4
}
