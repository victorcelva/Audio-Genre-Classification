{
 "cells": [
  {
   "cell_type": "code",
   "execution_count": 1,
   "metadata": {},
   "outputs": [],
   "source": [
    "import os\n",
    "from tqdm import tqdm\n",
    "import numpy as np\n",
    "import matplotlib\n",
    "import matplotlib.pyplot as plt\n",
    "import pandas as pd\n",
    "%matplotlib inline\n",
    "import librosa\n",
    "from matplotlib import cm\n",
    "from librosa import display\n",
    "import pylab\n",
    "from scipy.io import wavfile"
   ]
  },
  {
   "cell_type": "code",
   "execution_count": 2,
   "metadata": {},
   "outputs": [
    {
     "data": {
      "text/html": [
       "<div>\n",
       "<style scoped>\n",
       "    .dataframe tbody tr th:only-of-type {\n",
       "        vertical-align: middle;\n",
       "    }\n",
       "\n",
       "    .dataframe tbody tr th {\n",
       "        vertical-align: top;\n",
       "    }\n",
       "\n",
       "    .dataframe thead th {\n",
       "        text-align: right;\n",
       "    }\n",
       "</style>\n",
       "<table border=\"1\" class=\"dataframe\">\n",
       "  <thead>\n",
       "    <tr style=\"text-align: right;\">\n",
       "      <th></th>\n",
       "      <th>Unnamed: 0</th>\n",
       "      <th>Audio_Filenames</th>\n",
       "      <th>track_genre_1</th>\n",
       "      <th>track_genre_2</th>\n",
       "      <th>length</th>\n",
       "      <th>multi_genres</th>\n",
       "    </tr>\n",
       "  </thead>\n",
       "  <tbody>\n",
       "    <tr>\n",
       "      <th>0</th>\n",
       "      <td>0</td>\n",
       "      <td>4em001_01_Mideast-Darkness_703611.wav</td>\n",
       "      <td>Atmosphere</td>\n",
       "      <td>World Music</td>\n",
       "      <td>4.631.510.204.081.630</td>\n",
       "      <td>Atmosphere World Music</td>\n",
       "    </tr>\n",
       "    <tr>\n",
       "      <th>1</th>\n",
       "      <td>1</td>\n",
       "      <td>4em001_02_Desert-Search_703612.wav</td>\n",
       "      <td>Atmosphere</td>\n",
       "      <td>World Music</td>\n",
       "      <td>96.6</td>\n",
       "      <td>Atmosphere World Music</td>\n",
       "    </tr>\n",
       "    <tr>\n",
       "      <th>2</th>\n",
       "      <td>2</td>\n",
       "      <td>4em001_03_Qasidah_703613.wav</td>\n",
       "      <td>Atmosphere</td>\n",
       "      <td>World Music</td>\n",
       "      <td>8.347.827.664.399.090</td>\n",
       "      <td>Atmosphere World Music</td>\n",
       "    </tr>\n",
       "    <tr>\n",
       "      <th>3</th>\n",
       "      <td>3</td>\n",
       "      <td>4em001_04_Desert-War_703614.wav</td>\n",
       "      <td>Atmosphere</td>\n",
       "      <td>World Music</td>\n",
       "      <td>10.132.979.591.836.700</td>\n",
       "      <td>Atmosphere World Music</td>\n",
       "    </tr>\n",
       "    <tr>\n",
       "      <th>4</th>\n",
       "      <td>4</td>\n",
       "      <td>4em001_05_Desert-War---Lite_703615.wav</td>\n",
       "      <td>Atmosphere</td>\n",
       "      <td>World Music</td>\n",
       "      <td>9.382.977.324.263.030</td>\n",
       "      <td>Atmosphere World Music</td>\n",
       "    </tr>\n",
       "  </tbody>\n",
       "</table>\n",
       "</div>"
      ],
      "text/plain": [
       "   Unnamed: 0                         Audio_Filenames track_genre_1  \\\n",
       "0           0   4em001_01_Mideast-Darkness_703611.wav    Atmosphere   \n",
       "1           1      4em001_02_Desert-Search_703612.wav    Atmosphere   \n",
       "2           2            4em001_03_Qasidah_703613.wav    Atmosphere   \n",
       "3           3         4em001_04_Desert-War_703614.wav    Atmosphere   \n",
       "4           4  4em001_05_Desert-War---Lite_703615.wav    Atmosphere   \n",
       "\n",
       "  track_genre_2                  length            multi_genres  \n",
       "0   World Music   4.631.510.204.081.630  Atmosphere World Music  \n",
       "1   World Music                    96.6  Atmosphere World Music  \n",
       "2   World Music   8.347.827.664.399.090  Atmosphere World Music  \n",
       "3   World Music  10.132.979.591.836.700  Atmosphere World Music  \n",
       "4   World Music   9.382.977.324.263.030  Atmosphere World Music  "
      ]
     },
     "execution_count": 2,
     "metadata": {},
     "output_type": "execute_result"
    }
   ],
   "source": [
    "audio_genres = pd.read_csv(\"clean_audio_genres.csv\", sep=\";\")\n",
    "audio_genres.head()"
   ]
  },
  {
   "cell_type": "code",
   "execution_count": 3,
   "metadata": {},
   "outputs": [
    {
     "data": {
      "text/plain": [
       "Atmosphere            3899\n",
       "Filmscore             3214\n",
       "Rock                  3172\n",
       "Electronica           2023\n",
       "Country, Folk         1920\n",
       "Hip Hop, Rap          1875\n",
       "Others                1661\n",
       "Classical Music       1442\n",
       "Easy Listening        1369\n",
       "Dance                 1286\n",
       "Ambient, Chill        1144\n",
       "Indie, Alternative    1141\n",
       "Pop                   1088\n",
       "Funk, Soul             941\n",
       "World Music            927\n",
       "Jazz                   863\n",
       "House                  739\n",
       "Latin                  446\n",
       "Blues                  309\n",
       "60ies                  303\n",
       "RnB                    162\n",
       "Swing                  124\n",
       "Acoustic                99\n",
       "Orchestral              95\n",
       "Kids                    77\n",
       "Christmas               72\n",
       "Hard, Heavy             70\n",
       "Drone                   43\n",
       "Trailer                 29\n",
       "Sound Design            10\n",
       "Name: track_genre_1, dtype: int64"
      ]
     },
     "execution_count": 3,
     "metadata": {},
     "output_type": "execute_result"
    }
   ],
   "source": [
    "newoccur_col1 = audio_genres[\"track_genre_1\"].value_counts()\n",
    "newoccur_col1"
   ]
  },
  {
   "cell_type": "code",
   "execution_count": 4,
   "metadata": {},
   "outputs": [
    {
     "data": {
      "text/plain": [
       "Pop                   3472\n",
       "Electronica           2674\n",
       "Others                2481\n",
       "Ambient, Chill        2365\n",
       "Filmscore             1657\n",
       "World Music           1263\n",
       "Classical Music       1263\n",
       "Indie, Alternative     613\n",
       "Orchestral             593\n",
       "Acoustic               558\n",
       "Kids                   531\n",
       "Sound Design           520\n",
       "Trailer                484\n",
       "Hard, Heavy            471\n",
       "Jazz                   461\n",
       "Drone                  369\n",
       "Christmas              360\n",
       "Blues                  332\n",
       "Swing                  322\n",
       "Dance                  313\n",
       "RnB                    266\n",
       "Easy Listening         243\n",
       "Atmosphere             220\n",
       "Funk, Soul             217\n",
       "60ies                  141\n",
       "House                  127\n",
       "Country, Folk           95\n",
       "Hip Hop, Rap            66\n",
       "Rock                    57\n",
       "Latin                   36\n",
       "Name: track_genre_2, dtype: int64"
      ]
     },
     "execution_count": 4,
     "metadata": {},
     "output_type": "execute_result"
    }
   ],
   "source": [
    "newoccur_col2 = audio_genres[\"track_genre_2\"].value_counts()\n",
    "newoccur_col2"
   ]
  },
  {
   "cell_type": "code",
   "execution_count": 5,
   "metadata": {},
   "outputs": [
    {
     "data": {
      "text/plain": [
       "Filmscore             4871\n",
       "Electronica           4697\n",
       "Pop                   4560\n",
       "Others                4142\n",
       "Atmosphere            4119\n",
       "Ambient, Chill        3509\n",
       "Rock                  3229\n",
       "Classical Music       2705\n",
       "World Music           2190\n",
       "Country, Folk         2015\n",
       "Hip Hop, Rap          1941\n",
       "Indie, Alternative    1754\n",
       "Easy Listening        1612\n",
       "Dance                 1599\n",
       "Jazz                  1324\n",
       "Funk, Soul            1158\n",
       "House                  866\n",
       "Orchestral             688\n",
       "Acoustic               657\n",
       "Blues                  641\n",
       "Kids                   608\n",
       "Hard, Heavy            541\n",
       "Sound Design           530\n",
       "Trailer                513\n",
       "Latin                  482\n",
       "Swing                  446\n",
       "60ies                  444\n",
       "Christmas              432\n",
       "RnB                    428\n",
       "Drone                  412\n",
       "dtype: int64"
      ]
     },
     "execution_count": 5,
     "metadata": {},
     "output_type": "execute_result"
    }
   ],
   "source": [
    "newoccur_tot = newoccur_col1 + newoccur_col2\n",
    "newoccur_tot.sort_values(ascending=False)"
   ]
  },
  {
   "cell_type": "code",
   "execution_count": 6,
   "metadata": {},
   "outputs": [],
   "source": [
    "genres = ['Drone', 'RnB', 'Christmas', '60ies', 'Swing', 'Latin', 'Trailer', 'Sound Design', 'Hard, Heavy', 'Kids', 'Blues', 'Acoustic', 'Orchestral', 'House', 'Funk, Soul', 'Jazz', 'Dance', 'Easy Listening', 'Indie, Alternative', 'Country, Folk', 'Hip Hop, Rap', 'World Music', 'Classical Music', 'Rock', 'Ambient, Chill', 'Others', 'Pop', 'Atmosphere', 'Electronica', 'Filmscore']"
   ]
  },
  {
   "cell_type": "code",
   "execution_count": 7,
   "metadata": {},
   "outputs": [],
   "source": [
    "classes = list(np.unique(newoccur_tot))\n",
    "class_dist = newoccur_tot.sum()"
   ]
  },
  {
   "cell_type": "code",
   "execution_count": 8,
   "metadata": {},
   "outputs": [
    {
     "data": {
      "text/plain": [
       "<function matplotlib.pyplot.show(close=None, block=None)>"
      ]
     },
     "execution_count": 8,
     "metadata": {},
     "output_type": "execute_result"
    },
    {
     "data": {
      "image/png": "[encoded data removed]",
      "text/plain": [
       "<Figure size 432x288 with 1 Axes>"
      ]
     },
     "metadata": {},
     "output_type": "display_data"
    }
   ],
   "source": [
    "fig, ax = plt.subplots()\n",
    "ax.set_title('Class Distribution')\n",
    "ax.pie(classes, labels=genres, autopct='%1.1f%%')\n",
    "plt.show"
   ]
  }
 ],
 "metadata": {
  "kernelspec": {
   "display_name": "Python 3",
   "language": "python",
   "name": "python3"
  },
  "language_info": {
   "codemirror_mode": {
    "name": "ipython",
    "version": 3
   },
   "file_extension": ".py",
   "mimetype": "text/x-python",
   "name": "python",
   "nbconvert_exporter": "python",
   "pygments_lexer": "ipython3",
   "version": "3.7.7"
  }
 },
 "nbformat": 4,
 "nbformat_minor": 4
}
